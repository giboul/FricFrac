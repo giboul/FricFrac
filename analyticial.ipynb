{
 "cells": [
  {
   "cell_type": "code",
   "execution_count": 2,
   "metadata": {},
   "outputs": [],
   "source": [
    "import sympy as sm\n",
    "import numpy as np\n",
    "from IPython.display import display, Math\n",
    "def mprint(s, *args, **kwargs):\n",
    "    display(Math(s), *args, **kwargs)"
   ]
  },
  {
   "cell_type": "code",
   "execution_count": 7,
   "metadata": {},
   "outputs": [
    {
     "data": {
      "text/latex": [
       "$\\displaystyle \\left[\\begin{matrix}\\varepsilon_{xx} & \\varepsilon_{xy} & 0\\\\\\varepsilon_{xy} & \\varepsilon_{yy} & 0\\\\0 & 0 & \\varepsilon_{zz}\\end{matrix}\\right]$"
      ],
      "text/plain": [
       "Matrix([\n",
       "[\\varepsilon_{xx}, \\varepsilon_{xy},                0],\n",
       "[\\varepsilon_{xy}, \\varepsilon_{yy},                0],\n",
       "[               0,                0, \\varepsilon_{zz}]])"
      ]
     },
     "metadata": {},
     "output_type": "display_data"
    },
    {
     "data": {
      "text/latex": [
       "$\\displaystyle \\varepsilon_1 = n_1^T\\underline{\\varepsilon}n_1 = 0.5*\\varepsilon_{xx} + 1.0*\\varepsilon_{xy} + 0.5*\\varepsilon_{yy}$"
      ],
      "text/plain": [
       "<IPython.core.display.Math object>"
      ]
     },
     "metadata": {},
     "output_type": "display_data"
    },
    {
     "data": {
      "text/latex": [
       "$\\displaystyle \\varepsilon_2 = n_2^T\\underline{\\varepsilon}n_2 = 1.0*\\varepsilon_{yy}$"
      ],
      "text/plain": [
       "<IPython.core.display.Math object>"
      ]
     },
     "metadata": {},
     "output_type": "display_data"
    },
    {
     "data": {
      "text/latex": [
       "$\\displaystyle \\varepsilon_3 = n_3^T\\underline{\\varepsilon}n_3 = 0.5*\\varepsilon_{xx} - 1.0*\\varepsilon_{xy} + 0.5*\\varepsilon_{yy}$"
      ],
      "text/plain": [
       "<IPython.core.display.Math object>"
      ]
     },
     "metadata": {},
     "output_type": "display_data"
    }
   ],
   "source": [
    "e11 = sm.Symbol(r\"\\varepsilon_{xx}\")\n",
    "e12 = sm.Symbol(r\"\\varepsilon_{xy}\")\n",
    "e22 = sm.Symbol(r\"\\varepsilon_{yy}\")\n",
    "e33 = sm.Symbol(r\"\\varepsilon_{zz}\")\n",
    "eps = sm.Matrix([\n",
    "    [e11, e12, 0],\n",
    "    [e12, e22, 0],\n",
    "    [0, 0, e33]\n",
    "])\n",
    "\n",
    "n1a = np.array([1, 1, 0])\n",
    "n1a = n1a / np.linalg.norm(n1a)\n",
    "n2a = np.array([0, 1, 0])\n",
    "n2a = n2a / np.linalg.norm(n2a)\n",
    "n3a = np.array([-1, 1, 0]) / np.sqrt(2)\n",
    "n3a = n3a / np.linalg.norm(n3a)\n",
    "n1 = sm.Matrix(n1a)\n",
    "n2 = sm.Matrix(n2a)\n",
    "n3 = sm.Matrix(n3a)\n",
    "N = sm.Matrix([n1a, n2a, n3a]).T\n",
    "\n",
    "display(eps)\n",
    "mprint(rf\"\\varepsilon_1 = n_1^T\\underline{{\\varepsilon}}n_1 = {(n1.T @ eps @ n1)[0]}\")\n",
    "mprint(rf\"\\varepsilon_2 = n_2^T\\underline{{\\varepsilon}}n_2 = {(n2.T @ eps @ n2)[0]}\")\n",
    "mprint(rf\"\\varepsilon_3 = n_3^T\\underline{{\\varepsilon}}n_3 = {(n3.T @ eps @ n3)[0]}\")"
   ]
  },
  {
   "cell_type": "code",
   "execution_count": 12,
   "metadata": {},
   "outputs": [
    {
     "data": {
      "text/latex": [
       "$\\displaystyle \\left[\\begin{matrix}\\varepsilon_{xx}\\\\\\varepsilon_{yy}\\\\\\varepsilon_{xy}\\end{matrix}\\right] = \\left[\\begin{matrix}1.0 \\varepsilon_{1} - 1.0 \\varepsilon_{2} + 1.0 \\varepsilon_{3}\\\\1.0 \\varepsilon_{2}\\\\0.5 \\varepsilon_{1} - 0.5 \\varepsilon_{3}\\end{matrix}\\right]$"
      ],
      "text/plain": [
       "Eq(Matrix([\n",
       "[\\varepsilon_{xx}],\n",
       "[\\varepsilon_{yy}],\n",
       "[\\varepsilon_{xy}]]), Matrix([\n",
       "[1.0*\\varepsilon_1 - 1.0*\\varepsilon_2 + 1.0*\\varepsilon_3],\n",
       "[                                        1.0*\\varepsilon_2],\n",
       "[                    0.5*\\varepsilon_1 - 0.5*\\varepsilon_3]]))"
      ]
     },
     "metadata": {},
     "output_type": "display_data"
    }
   ],
   "source": [
    "dl1 = sm.Symbol(r\"\\varepsilon_1\")\n",
    "dl2 = sm.Symbol(r\"\\varepsilon_2\")\n",
    "dl3 = sm.Symbol(r\"\\varepsilon_3\")\n",
    "inv = sm.Matrix([[0.5, 0.5, 1.0],\n",
    "                 [0.0, 1.0, 0.0],\n",
    "                 [0.5, 0.5,-1.0]]).inv()\n",
    "e = sm.Matrix([e11, e22, e12])\n",
    "dl = sm.Matrix([dl1, dl2, dl3])\n",
    "display(sm.Equality(e, inv @ dl))"
   ]
  },
  {
   "cell_type": "code",
   "execution_count": 20,
   "metadata": {},
   "outputs": [
    {
     "data": {
      "text/latex": [
       "$\\displaystyle \\left[\\begin{matrix}\\varepsilon_{xx}\\\\\\varepsilon_{yy}\\\\\\varepsilon_{xy}\\end{matrix}\\right] = \\left[\\begin{matrix}\\varepsilon_{1} \\cos^{2}{\\left(\\sigma_{1} \\right)} + \\varepsilon_{2} \\sin^{2}{\\left(\\sigma_{1} \\right)} + \\varepsilon_{3} \\sin{\\left(2 \\sigma_{1} \\right)}\\\\\\varepsilon_{1} \\cos^{2}{\\left(\\sigma_{2} \\right)} + \\varepsilon_{2} \\sin^{2}{\\left(\\sigma_{2} \\right)} + \\varepsilon_{3} \\sin{\\left(2 \\sigma_{2} \\right)}\\\\\\varepsilon_{1} \\cos^{2}{\\left(\\sigma_{3} \\right)} + \\varepsilon_{2} \\sin^{2}{\\left(\\sigma_{3} \\right)} + \\varepsilon_{3} \\sin{\\left(2 \\sigma_{3} \\right)}\\end{matrix}\\right]$"
      ],
      "text/plain": [
       "Eq(Matrix([\n",
       "[\\varepsilon_{xx}],\n",
       "[\\varepsilon_{yy}],\n",
       "[\\varepsilon_{xy}]]), Matrix([\n",
       "[\\varepsilon_1*cos(\\sigma_1)**2 + \\varepsilon_2*sin(\\sigma_1)**2 + \\varepsilon_3*sin(2*\\sigma_1)],\n",
       "[\\varepsilon_1*cos(\\sigma_2)**2 + \\varepsilon_2*sin(\\sigma_2)**2 + \\varepsilon_3*sin(2*\\sigma_2)],\n",
       "[\\varepsilon_1*cos(\\sigma_3)**2 + \\varepsilon_2*sin(\\sigma_3)**2 + \\varepsilon_3*sin(2*\\sigma_3)]]))"
      ]
     },
     "metadata": {},
     "output_type": "display_data"
    },
    {
     "data": {
      "text/latex": [
       "$\\displaystyle \\left[\\begin{matrix}\\frac{\\sin^{2}{\\left(\\sigma_{2} \\right)} \\sin{\\left(2 \\sigma_{3} \\right)} - \\sin{\\left(2 \\sigma_{2} \\right)} \\sin^{2}{\\left(\\sigma_{3} \\right)}}{\\sin^{2}{\\left(\\sigma_{1} \\right)} \\sin{\\left(2 \\sigma_{2} \\right)} \\cos^{2}{\\left(\\sigma_{3} \\right)} - \\sin^{2}{\\left(\\sigma_{1} \\right)} \\sin{\\left(2 \\sigma_{3} \\right)} \\cos^{2}{\\left(\\sigma_{2} \\right)} - \\sin{\\left(2 \\sigma_{1} \\right)} \\sin^{2}{\\left(\\sigma_{2} \\right)} \\cos^{2}{\\left(\\sigma_{3} \\right)} + \\sin{\\left(2 \\sigma_{1} \\right)} \\sin^{2}{\\left(\\sigma_{3} \\right)} \\cos^{2}{\\left(\\sigma_{2} \\right)} + \\sin^{2}{\\left(\\sigma_{2} \\right)} \\sin{\\left(2 \\sigma_{3} \\right)} \\cos^{2}{\\left(\\sigma_{1} \\right)} - \\sin{\\left(2 \\sigma_{2} \\right)} \\sin^{2}{\\left(\\sigma_{3} \\right)} \\cos^{2}{\\left(\\sigma_{1} \\right)}} & \\frac{- \\sin^{2}{\\left(\\sigma_{1} \\right)} \\sin{\\left(2 \\sigma_{3} \\right)} + \\sin{\\left(2 \\sigma_{1} \\right)} \\sin^{2}{\\left(\\sigma_{3} \\right)}}{\\sin^{2}{\\left(\\sigma_{1} \\right)} \\sin{\\left(2 \\sigma_{2} \\right)} \\cos^{2}{\\left(\\sigma_{3} \\right)} - \\sin^{2}{\\left(\\sigma_{1} \\right)} \\sin{\\left(2 \\sigma_{3} \\right)} \\cos^{2}{\\left(\\sigma_{2} \\right)} - \\sin{\\left(2 \\sigma_{1} \\right)} \\sin^{2}{\\left(\\sigma_{2} \\right)} \\cos^{2}{\\left(\\sigma_{3} \\right)} + \\sin{\\left(2 \\sigma_{1} \\right)} \\sin^{2}{\\left(\\sigma_{3} \\right)} \\cos^{2}{\\left(\\sigma_{2} \\right)} + \\sin^{2}{\\left(\\sigma_{2} \\right)} \\sin{\\left(2 \\sigma_{3} \\right)} \\cos^{2}{\\left(\\sigma_{1} \\right)} - \\sin{\\left(2 \\sigma_{2} \\right)} \\sin^{2}{\\left(\\sigma_{3} \\right)} \\cos^{2}{\\left(\\sigma_{1} \\right)}} & \\frac{\\sin^{2}{\\left(\\sigma_{1} \\right)} \\sin{\\left(2 \\sigma_{2} \\right)} - \\sin{\\left(2 \\sigma_{1} \\right)} \\sin^{2}{\\left(\\sigma_{2} \\right)}}{\\sin^{2}{\\left(\\sigma_{1} \\right)} \\sin{\\left(2 \\sigma_{2} \\right)} \\cos^{2}{\\left(\\sigma_{3} \\right)} - \\sin^{2}{\\left(\\sigma_{1} \\right)} \\sin{\\left(2 \\sigma_{3} \\right)} \\cos^{2}{\\left(\\sigma_{2} \\right)} - \\sin{\\left(2 \\sigma_{1} \\right)} \\sin^{2}{\\left(\\sigma_{2} \\right)} \\cos^{2}{\\left(\\sigma_{3} \\right)} + \\sin{\\left(2 \\sigma_{1} \\right)} \\sin^{2}{\\left(\\sigma_{3} \\right)} \\cos^{2}{\\left(\\sigma_{2} \\right)} + \\sin^{2}{\\left(\\sigma_{2} \\right)} \\sin{\\left(2 \\sigma_{3} \\right)} \\cos^{2}{\\left(\\sigma_{1} \\right)} - \\sin{\\left(2 \\sigma_{2} \\right)} \\sin^{2}{\\left(\\sigma_{3} \\right)} \\cos^{2}{\\left(\\sigma_{1} \\right)}}\\\\\\frac{\\sin{\\left(2 \\sigma_{2} \\right)} \\cos^{2}{\\left(\\sigma_{3} \\right)} - \\sin{\\left(2 \\sigma_{3} \\right)} \\cos^{2}{\\left(\\sigma_{2} \\right)}}{\\sin^{2}{\\left(\\sigma_{1} \\right)} \\sin{\\left(2 \\sigma_{2} \\right)} \\cos^{2}{\\left(\\sigma_{3} \\right)} - \\sin^{2}{\\left(\\sigma_{1} \\right)} \\sin{\\left(2 \\sigma_{3} \\right)} \\cos^{2}{\\left(\\sigma_{2} \\right)} - \\sin{\\left(2 \\sigma_{1} \\right)} \\sin^{2}{\\left(\\sigma_{2} \\right)} \\cos^{2}{\\left(\\sigma_{3} \\right)} + \\sin{\\left(2 \\sigma_{1} \\right)} \\sin^{2}{\\left(\\sigma_{3} \\right)} \\cos^{2}{\\left(\\sigma_{2} \\right)} + \\sin^{2}{\\left(\\sigma_{2} \\right)} \\sin{\\left(2 \\sigma_{3} \\right)} \\cos^{2}{\\left(\\sigma_{1} \\right)} - \\sin{\\left(2 \\sigma_{2} \\right)} \\sin^{2}{\\left(\\sigma_{3} \\right)} \\cos^{2}{\\left(\\sigma_{1} \\right)}} & \\frac{- \\sin{\\left(2 \\sigma_{1} \\right)} \\cos^{2}{\\left(\\sigma_{3} \\right)} + \\sin{\\left(2 \\sigma_{3} \\right)} \\cos^{2}{\\left(\\sigma_{1} \\right)}}{\\sin^{2}{\\left(\\sigma_{1} \\right)} \\sin{\\left(2 \\sigma_{2} \\right)} \\cos^{2}{\\left(\\sigma_{3} \\right)} - \\sin^{2}{\\left(\\sigma_{1} \\right)} \\sin{\\left(2 \\sigma_{3} \\right)} \\cos^{2}{\\left(\\sigma_{2} \\right)} - \\sin{\\left(2 \\sigma_{1} \\right)} \\sin^{2}{\\left(\\sigma_{2} \\right)} \\cos^{2}{\\left(\\sigma_{3} \\right)} + \\sin{\\left(2 \\sigma_{1} \\right)} \\sin^{2}{\\left(\\sigma_{3} \\right)} \\cos^{2}{\\left(\\sigma_{2} \\right)} + \\sin^{2}{\\left(\\sigma_{2} \\right)} \\sin{\\left(2 \\sigma_{3} \\right)} \\cos^{2}{\\left(\\sigma_{1} \\right)} - \\sin{\\left(2 \\sigma_{2} \\right)} \\sin^{2}{\\left(\\sigma_{3} \\right)} \\cos^{2}{\\left(\\sigma_{1} \\right)}} & \\frac{\\sin{\\left(2 \\sigma_{1} \\right)} \\cos^{2}{\\left(\\sigma_{2} \\right)} - \\sin{\\left(2 \\sigma_{2} \\right)} \\cos^{2}{\\left(\\sigma_{1} \\right)}}{\\sin^{2}{\\left(\\sigma_{1} \\right)} \\sin{\\left(2 \\sigma_{2} \\right)} \\cos^{2}{\\left(\\sigma_{3} \\right)} - \\sin^{2}{\\left(\\sigma_{1} \\right)} \\sin{\\left(2 \\sigma_{3} \\right)} \\cos^{2}{\\left(\\sigma_{2} \\right)} - \\sin{\\left(2 \\sigma_{1} \\right)} \\sin^{2}{\\left(\\sigma_{2} \\right)} \\cos^{2}{\\left(\\sigma_{3} \\right)} + \\sin{\\left(2 \\sigma_{1} \\right)} \\sin^{2}{\\left(\\sigma_{3} \\right)} \\cos^{2}{\\left(\\sigma_{2} \\right)} + \\sin^{2}{\\left(\\sigma_{2} \\right)} \\sin{\\left(2 \\sigma_{3} \\right)} \\cos^{2}{\\left(\\sigma_{1} \\right)} - \\sin{\\left(2 \\sigma_{2} \\right)} \\sin^{2}{\\left(\\sigma_{3} \\right)} \\cos^{2}{\\left(\\sigma_{1} \\right)}}\\\\\\frac{- \\sin^{2}{\\left(\\sigma_{2} \\right)} \\cos^{2}{\\left(\\sigma_{3} \\right)} + \\sin^{2}{\\left(\\sigma_{3} \\right)} \\cos^{2}{\\left(\\sigma_{2} \\right)}}{\\sin^{2}{\\left(\\sigma_{1} \\right)} \\sin{\\left(2 \\sigma_{2} \\right)} \\cos^{2}{\\left(\\sigma_{3} \\right)} - \\sin^{2}{\\left(\\sigma_{1} \\right)} \\sin{\\left(2 \\sigma_{3} \\right)} \\cos^{2}{\\left(\\sigma_{2} \\right)} - \\sin{\\left(2 \\sigma_{1} \\right)} \\sin^{2}{\\left(\\sigma_{2} \\right)} \\cos^{2}{\\left(\\sigma_{3} \\right)} + \\sin{\\left(2 \\sigma_{1} \\right)} \\sin^{2}{\\left(\\sigma_{3} \\right)} \\cos^{2}{\\left(\\sigma_{2} \\right)} + \\sin^{2}{\\left(\\sigma_{2} \\right)} \\sin{\\left(2 \\sigma_{3} \\right)} \\cos^{2}{\\left(\\sigma_{1} \\right)} - \\sin{\\left(2 \\sigma_{2} \\right)} \\sin^{2}{\\left(\\sigma_{3} \\right)} \\cos^{2}{\\left(\\sigma_{1} \\right)}} & \\frac{\\sin^{2}{\\left(\\sigma_{1} \\right)} \\cos^{2}{\\left(\\sigma_{3} \\right)} - \\sin^{2}{\\left(\\sigma_{3} \\right)} \\cos^{2}{\\left(\\sigma_{1} \\right)}}{\\sin^{2}{\\left(\\sigma_{1} \\right)} \\sin{\\left(2 \\sigma_{2} \\right)} \\cos^{2}{\\left(\\sigma_{3} \\right)} - \\sin^{2}{\\left(\\sigma_{1} \\right)} \\sin{\\left(2 \\sigma_{3} \\right)} \\cos^{2}{\\left(\\sigma_{2} \\right)} - \\sin{\\left(2 \\sigma_{1} \\right)} \\sin^{2}{\\left(\\sigma_{2} \\right)} \\cos^{2}{\\left(\\sigma_{3} \\right)} + \\sin{\\left(2 \\sigma_{1} \\right)} \\sin^{2}{\\left(\\sigma_{3} \\right)} \\cos^{2}{\\left(\\sigma_{2} \\right)} + \\sin^{2}{\\left(\\sigma_{2} \\right)} \\sin{\\left(2 \\sigma_{3} \\right)} \\cos^{2}{\\left(\\sigma_{1} \\right)} - \\sin{\\left(2 \\sigma_{2} \\right)} \\sin^{2}{\\left(\\sigma_{3} \\right)} \\cos^{2}{\\left(\\sigma_{1} \\right)}} & \\frac{- \\sin^{2}{\\left(\\sigma_{1} \\right)} \\cos^{2}{\\left(\\sigma_{2} \\right)} + \\sin^{2}{\\left(\\sigma_{2} \\right)} \\cos^{2}{\\left(\\sigma_{1} \\right)}}{\\sin^{2}{\\left(\\sigma_{1} \\right)} \\sin{\\left(2 \\sigma_{2} \\right)} \\cos^{2}{\\left(\\sigma_{3} \\right)} - \\sin^{2}{\\left(\\sigma_{1} \\right)} \\sin{\\left(2 \\sigma_{3} \\right)} \\cos^{2}{\\left(\\sigma_{2} \\right)} - \\sin{\\left(2 \\sigma_{1} \\right)} \\sin^{2}{\\left(\\sigma_{2} \\right)} \\cos^{2}{\\left(\\sigma_{3} \\right)} + \\sin{\\left(2 \\sigma_{1} \\right)} \\sin^{2}{\\left(\\sigma_{3} \\right)} \\cos^{2}{\\left(\\sigma_{2} \\right)} + \\sin^{2}{\\left(\\sigma_{2} \\right)} \\sin{\\left(2 \\sigma_{3} \\right)} \\cos^{2}{\\left(\\sigma_{1} \\right)} - \\sin{\\left(2 \\sigma_{2} \\right)} \\sin^{2}{\\left(\\sigma_{3} \\right)} \\cos^{2}{\\left(\\sigma_{1} \\right)}}\\end{matrix}\\right]$"
      ],
      "text/plain": [
       "Matrix([\n",
       "[   (sin(\\sigma_2)**2*sin(2*\\sigma_3) - sin(2*\\sigma_2)*sin(\\sigma_3)**2)/(sin(\\sigma_1)**2*sin(2*\\sigma_2)*cos(\\sigma_3)**2 - sin(\\sigma_1)**2*sin(2*\\sigma_3)*cos(\\sigma_2)**2 - sin(2*\\sigma_1)*sin(\\sigma_2)**2*cos(\\sigma_3)**2 + sin(2*\\sigma_1)*sin(\\sigma_3)**2*cos(\\sigma_2)**2 + sin(\\sigma_2)**2*sin(2*\\sigma_3)*cos(\\sigma_1)**2 - sin(2*\\sigma_2)*sin(\\sigma_3)**2*cos(\\sigma_1)**2),  (-sin(\\sigma_1)**2*sin(2*\\sigma_3) + sin(2*\\sigma_1)*sin(\\sigma_3)**2)/(sin(\\sigma_1)**2*sin(2*\\sigma_2)*cos(\\sigma_3)**2 - sin(\\sigma_1)**2*sin(2*\\sigma_3)*cos(\\sigma_2)**2 - sin(2*\\sigma_1)*sin(\\sigma_2)**2*cos(\\sigma_3)**2 + sin(2*\\sigma_1)*sin(\\sigma_3)**2*cos(\\sigma_2)**2 + sin(\\sigma_2)**2*sin(2*\\sigma_3)*cos(\\sigma_1)**2 - sin(2*\\sigma_2)*sin(\\sigma_3)**2*cos(\\sigma_1)**2),    (sin(\\sigma_1)**2*sin(2*\\sigma_2) - sin(2*\\sigma_1)*sin(\\sigma_2)**2)/(sin(\\sigma_1)**2*sin(2*\\sigma_2)*cos(\\sigma_3)**2 - sin(\\sigma_1)**2*sin(2*\\sigma_3)*cos(\\sigma_2)**2 - sin(2*\\sigma_1)*sin(\\sigma_2)**2*cos(\\sigma_3)**2 + sin(2*\\sigma_1)*sin(\\sigma_3)**2*cos(\\sigma_2)**2 + sin(\\sigma_2)**2*sin(2*\\sigma_3)*cos(\\sigma_1)**2 - sin(2*\\sigma_2)*sin(\\sigma_3)**2*cos(\\sigma_1)**2)],\n",
       "[   (sin(2*\\sigma_2)*cos(\\sigma_3)**2 - sin(2*\\sigma_3)*cos(\\sigma_2)**2)/(sin(\\sigma_1)**2*sin(2*\\sigma_2)*cos(\\sigma_3)**2 - sin(\\sigma_1)**2*sin(2*\\sigma_3)*cos(\\sigma_2)**2 - sin(2*\\sigma_1)*sin(\\sigma_2)**2*cos(\\sigma_3)**2 + sin(2*\\sigma_1)*sin(\\sigma_3)**2*cos(\\sigma_2)**2 + sin(\\sigma_2)**2*sin(2*\\sigma_3)*cos(\\sigma_1)**2 - sin(2*\\sigma_2)*sin(\\sigma_3)**2*cos(\\sigma_1)**2),  (-sin(2*\\sigma_1)*cos(\\sigma_3)**2 + sin(2*\\sigma_3)*cos(\\sigma_1)**2)/(sin(\\sigma_1)**2*sin(2*\\sigma_2)*cos(\\sigma_3)**2 - sin(\\sigma_1)**2*sin(2*\\sigma_3)*cos(\\sigma_2)**2 - sin(2*\\sigma_1)*sin(\\sigma_2)**2*cos(\\sigma_3)**2 + sin(2*\\sigma_1)*sin(\\sigma_3)**2*cos(\\sigma_2)**2 + sin(\\sigma_2)**2*sin(2*\\sigma_3)*cos(\\sigma_1)**2 - sin(2*\\sigma_2)*sin(\\sigma_3)**2*cos(\\sigma_1)**2),    (sin(2*\\sigma_1)*cos(\\sigma_2)**2 - sin(2*\\sigma_2)*cos(\\sigma_1)**2)/(sin(\\sigma_1)**2*sin(2*\\sigma_2)*cos(\\sigma_3)**2 - sin(\\sigma_1)**2*sin(2*\\sigma_3)*cos(\\sigma_2)**2 - sin(2*\\sigma_1)*sin(\\sigma_2)**2*cos(\\sigma_3)**2 + sin(2*\\sigma_1)*sin(\\sigma_3)**2*cos(\\sigma_2)**2 + sin(\\sigma_2)**2*sin(2*\\sigma_3)*cos(\\sigma_1)**2 - sin(2*\\sigma_2)*sin(\\sigma_3)**2*cos(\\sigma_1)**2)],\n",
       "[(-sin(\\sigma_2)**2*cos(\\sigma_3)**2 + sin(\\sigma_3)**2*cos(\\sigma_2)**2)/(sin(\\sigma_1)**2*sin(2*\\sigma_2)*cos(\\sigma_3)**2 - sin(\\sigma_1)**2*sin(2*\\sigma_3)*cos(\\sigma_2)**2 - sin(2*\\sigma_1)*sin(\\sigma_2)**2*cos(\\sigma_3)**2 + sin(2*\\sigma_1)*sin(\\sigma_3)**2*cos(\\sigma_2)**2 + sin(\\sigma_2)**2*sin(2*\\sigma_3)*cos(\\sigma_1)**2 - sin(2*\\sigma_2)*sin(\\sigma_3)**2*cos(\\sigma_1)**2), (sin(\\sigma_1)**2*cos(\\sigma_3)**2 - sin(\\sigma_3)**2*cos(\\sigma_1)**2)/(sin(\\sigma_1)**2*sin(2*\\sigma_2)*cos(\\sigma_3)**2 - sin(\\sigma_1)**2*sin(2*\\sigma_3)*cos(\\sigma_2)**2 - sin(2*\\sigma_1)*sin(\\sigma_2)**2*cos(\\sigma_3)**2 + sin(2*\\sigma_1)*sin(\\sigma_3)**2*cos(\\sigma_2)**2 + sin(\\sigma_2)**2*sin(2*\\sigma_3)*cos(\\sigma_1)**2 - sin(2*\\sigma_2)*sin(\\sigma_3)**2*cos(\\sigma_1)**2), (-sin(\\sigma_1)**2*cos(\\sigma_2)**2 + sin(\\sigma_2)**2*cos(\\sigma_1)**2)/(sin(\\sigma_1)**2*sin(2*\\sigma_2)*cos(\\sigma_3)**2 - sin(\\sigma_1)**2*sin(2*\\sigma_3)*cos(\\sigma_2)**2 - sin(2*\\sigma_1)*sin(\\sigma_2)**2*cos(\\sigma_3)**2 + sin(2*\\sigma_1)*sin(\\sigma_3)**2*cos(\\sigma_2)**2 + sin(\\sigma_2)**2*sin(2*\\sigma_3)*cos(\\sigma_1)**2 - sin(2*\\sigma_2)*sin(\\sigma_3)**2*cos(\\sigma_1)**2)]])"
      ]
     },
     "metadata": {},
     "output_type": "display_data"
    }
   ],
   "source": [
    "teta1 = sm.Symbol(r\"\\sigma_1\")\n",
    "teta2 = sm.Symbol(r\"\\sigma_2\")\n",
    "teta3 = sm.Symbol(r\"\\sigma_3\")\n",
    "\n",
    "M = sm.Matrix([\n",
    "    [sm.cos(teta1)**2,sm.sin(teta1)**2,sm.sin(2*teta1)],\n",
    "    [sm.cos(teta2)**2,sm.sin(teta2)**2,sm.sin(2*teta2)],\n",
    "    [sm.cos(teta3)**2,sm.sin(teta3)**2,sm.sin(2*teta3)]\n",
    "])\n",
    "\n",
    "e = sm.Matrix([e11, e22, e12])\n",
    "\n",
    "display(sm.Equality(e, M * dl))\n",
    "display(M.inv())"
   ]
  },
  {
   "cell_type": "code",
   "execution_count": null,
   "metadata": {},
   "outputs": [],
   "source": []
  }
 ],
 "metadata": {
  "kernelspec": {
   "display_name": "Python 3",
   "language": "python",
   "name": "python3"
  },
  "language_info": {
   "codemirror_mode": {
    "name": "ipython",
    "version": 3
   },
   "file_extension": ".py",
   "mimetype": "text/x-python",
   "name": "python",
   "nbconvert_exporter": "python",
   "pygments_lexer": "ipython3",
   "version": "3.10.12"
  }
 },
 "nbformat": 4,
 "nbformat_minor": 2
}
