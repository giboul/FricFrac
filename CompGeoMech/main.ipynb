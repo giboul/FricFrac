{
 "cells": [
  {
   "cell_type": "markdown",
   "metadata": {},
   "source": [
    "# Computational Geomechanics: Homework\n",
    "# Pressurization of a fracure in a poroelastic medium\n",
    "\n",
    "Axel Giboulot\n",
    "\n",
    "axel.giboulot@epfl.ch\n",
    "\n",
    "SCIPER: 316215\n",
    "\n",
    "## Problem description\n",
    "\n",
    "A wellbore introduces a fluid inside a rock's fracture with a certain pressure $p_w$. Said rock is supposed to be of infinite extent. The fracture's radius $R$ is fixed but not its width $w$. The thin wellbore is supposed to be thin in comparison to the fracture and the fracture is perfectly axisymmetric around said wellbore.\n",
    "\n",
    "![Image not found](figures/sketch.png \"Sketch of the problem.\")\n",
    "\n",
    "\n",
    "The drained and undrained responses are examined for the following two cases where the fracture loading is fast:\n",
    "1. Impermeable fracture walls.\n",
    "2. Permeable fracture walls.\n",
    "\n",
    "## Method of solution\n",
    "\n",
    "To solve this problem, a poroelastic applied, building a coupled hydro-mechanical model. A first search for the undrained response is done and used as the starting point of a transient analysis. The latter ends with the drained solution.\n",
    "\n",
    "The effects of the injected pressure are considered to be similiar to a surface traction normal to the fracture's surface and a pore pressure condition for the permeable case. The effects of the pressure gradient on the surface traction is not considered in this exercise.\n",
    "\n",
    "No initial stresses are applied, all values computed here are deviations from the hypothetical inital stresses."
   ]
  },
  {
   "cell_type": "code",
   "execution_count": null,
   "metadata": {
    "execution": {
     "iopub.execute_input": "2024-01-04T15:12:55.990848Z",
     "iopub.status.busy": "2024-01-04T15:12:55.989518Z",
     "iopub.status.idle": "2024-01-04T15:12:56.081202Z",
     "shell.execute_reply": "2024-01-04T15:12:56.079449Z",
     "shell.execute_reply.started": "2024-01-04T15:12:55.990796Z"
    },
    "tags": []
   },
   "outputs": [],
   "source": [
    "import numpy as np\n",
    "from scipy import sparse as sp\n",
    "import matplotlib.pyplot as plt\n",
    "from matplotlib.animation import FuncAnimation\n",
    "import pygmsh\n",
    "\n",
    "from utils.MesherWrapper import Mesh\n",
    "from utils.MeshUtils import MeshUtils\n",
    "from utils import MatrixAssembly\n",
    "from utils import PoroElasticProperties as prop"
   ]
  },
  {
   "cell_type": "code",
   "execution_count": null,
   "metadata": {},
   "outputs": [],
   "source": [
    "### Problem variables ###\n",
    "height = 2  # m\n",
    "width = 2.5  # m"
   ]
  },
  {
   "cell_type": "markdown",
   "metadata": {},
   "source": [
    "## Material properties\n",
    "\n",
    "The rock is modelled as poroelastic to consider the effects of the water pressure variation.\n",
    "\n",
    "\\begin{equation}\n",
    "\\sigma_{ij}= 2G\\varepsilon_{ij} + (K-2G/3)\\varepsilon_{kk}\\delta_{ij} - \\alpha p\\delta_{ij}\n",
    "\\end{equation}\n",
    "\n",
    "The density of the rock as well as the density of the water are not accounted for in this exercise since no loads will be acconted for, only deviations from the equilibrium state are used and computed in this exercise."
   ]
  },
  {
   "cell_type": "code",
   "execution_count": null,
   "metadata": {
    "execution": {
     "iopub.execute_input": "2024-01-04T15:09:06.298514Z",
     "iopub.status.busy": "2024-01-04T15:09:06.298251Z",
     "iopub.status.idle": "2024-01-04T15:09:06.374674Z",
     "shell.execute_reply": "2024-01-04T15:09:06.372494Z",
     "shell.execute_reply.started": "2024-01-04T15:09:06.298489Z"
    },
    "tags": []
   },
   "outputs": [],
   "source": [
    "k = 8.4e3  # elastic drained bulk modulus [MPa]\n",
    "G = 6.8e3  # shear modulus [MPa]\n",
    "alpha = 0.707692  # biot coefficient\n",
    "M = 1e6  # biot modulus [MPa]\n",
    "\n",
    "perm = 1e-19  # permeability  # m^2\n",
    "mu_f = 1e-3  # fluid viscosity\n",
    "rho = 1e3  # density  # kg/m3\n",
    "kappa = perm / mu_f  # conductivity (mobility?)\n",
    "k_u = prop.undrained_bulk_modulus(k, alpha, M)\n",
    "\n",
    "nu_u = prop.poisson_ratio(G, k_u)  # undrained Poisson ratio\n",
    "E_u = prop.young_modulus(G, k_u)  # undrained Young modulus\n",
    "nu = prop.poisson_ratio(G, k)  # Poisson ratio\n",
    "E = prop.young_modulus(G, k)  # Young modulus\n",
    "E = 2.59e9\n",
    "nu = 0.35"
   ]
  },
  {
   "cell_type": "markdown",
   "metadata": {},
   "source": [
    "## Mesh definition\n",
    "\n",
    "The mesh should be finer around the fracture since the stresses and the pore pressures should concentrate on that singularity.\n",
    "\n",
    "An important note is that the mesh elements should be quadratic. This is because the **strains** should be of the same ordrer as the **pore pressure** inside a poroelastic element.\n",
    "\n",
    "If we set the elements as linear, the deformations are linear and the strains are constant as a consequence. Meanwhile, the pore pressure is still linear. The constitutive relation (1) combines the strains and the pore pressure, giving an inconsistency/inhomogeneity with regard to polynomial orders.\n",
    "\n",
    "Hence why the elements of the mesh are set to quadratic for linear strains in order to have variations of both strain and pore pressure inside the elements."
   ]
  },
  {
   "cell_type": "code",
   "execution_count": null,
   "metadata": {
    "execution": {
     "iopub.execute_input": "2024-01-04T15:09:05.261698Z",
     "iopub.status.busy": "2024-01-04T15:09:05.260679Z",
     "iopub.status.idle": "2024-01-04T15:09:05.348838Z",
     "shell.execute_reply": "2024-01-04T15:09:05.347662Z",
     "shell.execute_reply.started": "2024-01-04T15:09:05.261611Z"
    },
    "tags": []
   },
   "outputs": [],
   "source": [
    "# You can easily build a rectangle with the following code:\n",
    "with pygmsh.geo.Geometry() as geom:\n",
    "    rec = geom.add_rectangle(0, width, 0, height, 0, mesh_size=0.05)\n",
    "    out = geom.generate_mesh()\n",
    "\n",
    "mesh = Mesh(out, simultype='2D')\n",
    "mesh = MeshUtils.tri3_to_tri6(mesh)\n",
    "nodes = np.arange(mesh.number_nodes)"
   ]
  },
  {
   "cell_type": "code",
   "execution_count": null,
   "metadata": {
    "execution": {
     "iopub.execute_input": "2024-01-04T15:40:45.727286Z",
     "iopub.status.busy": "2024-01-04T15:40:45.726111Z",
     "iopub.status.idle": "2024-01-04T15:40:46.003805Z",
     "shell.execute_reply": "2024-01-04T15:40:46.002141Z",
     "shell.execute_reply.started": "2024-01-04T15:40:45.727207Z"
    },
    "tags": []
   },
   "outputs": [],
   "source": [
    "%matplotlib inline\n",
    "\n",
    "fig, ax, _ = mesh.plot(triplot_kw=dict(\n",
    "        label=f\"Mesh: {mesh.number_els} elements\"\n",
    "))\n",
    "\n",
    "ax.legend(loc=(1.1, 0.2))\n",
    "ax.set_xlabel(\"x [m]\")\n",
    "ax.set_ylabel(\"y [m]\")\n",
    "plt.show()"
   ]
  },
  {
   "cell_type": "markdown",
   "metadata": {},
   "source": [
    "## Matrix assembly\n",
    "\n",
    "The problem is coupled: displacements and pore pressures interact. The fomer is evaluated through the stiffness matrix $\\mathbf{K}$ and the latter through the conductivity matrix $\\mathbf{C}$. The storage is denoted as $\\mathbf{S}$.\n",
    "\n",
    "To account for the interaction between stresses and pore pressure, the matrix should contain a hydro-mechanical coupling element. It is the matrix $\\mathbf{A}$ wich depends on the time-step $\\Delta t$."
   ]
  },
  {
   "cell_type": "code",
   "execution_count": null,
   "metadata": {},
   "outputs": [],
   "source": [
    "S = MatrixAssembly.assemble_mass_matrix(mesh, 1/M)\n",
    "C = MatrixAssembly.assemble_conductivity_matrix(mesh, kappa)\n",
    "A = MatrixAssembly.assemble_coupling_matrix(mesh, alpha)\n",
    "# Drained\n",
    "K = MatrixAssembly.assemble_stiffness_matrix(mesh, E, nu)\n",
    "# Undrained\n",
    "K_u = MatrixAssembly.assemble_stiffness_matrix(mesh, E_u, nu_u)\n",
    "\n",
    "ntot_E = mesh.number_nodes * 2\n",
    "ntot_P = mesh.number_nodes\n",
    "ntot = ntot_E + ntot_P"
   ]
  },
  {
   "cell_type": "markdown",
   "metadata": {},
   "source": [
    "## Boundary conditions\n",
    "\n",
    "To take advantage of the symmetry of the problem, only the upper-right quarter is modelled. The fixed rollers on the left and bottom parts of the rock mesh are an implication of said symmetry."
   ]
  },
  {
   "cell_type": "code",
   "execution_count": null,
   "metadata": {
    "execution": {
     "iopub.execute_input": "2024-01-04T15:41:12.904107Z",
     "iopub.status.busy": "2024-01-04T15:41:12.901875Z",
     "iopub.status.idle": "2024-01-04T15:41:13.189238Z",
     "shell.execute_reply": "2024-01-04T15:41:13.187545Z",
     "shell.execute_reply.started": "2024-01-04T15:41:12.904026Z"
    },
    "tags": []
   },
   "outputs": [],
   "source": [
    "tol = np.sqrt(width*height/mesh.number_els)/100\n",
    "\n",
    "top = np.argwhere(np.isclose(mesh.nodes[:, 1], height, atol=tol))[:, 0]\n",
    "bottom = np.argwhere(np.isclose(mesh.nodes[:, 1], 0, atol=tol))[:, 0]\n",
    "leftbot = np.argwhere(\n",
    "    np.isclose(mesh.nodes[:, 0], 0, atol=tol)\n",
    "    & (mesh.nodes[:, 1] <= height/2)\n",
    ")[:, 0]\n",
    "lefttop = np.argwhere(\n",
    "    np.isclose(mesh.nodes[:, 0], 0, atol=tol)\n",
    "    & (mesh.nodes[:, 1] > height/2)\n",
    ")[:, 0]\n",
    "rightbot = np.argwhere(\n",
    "    np.isclose(mesh.nodes[:, 0], width, atol=tol)\n",
    "    & (mesh.nodes[:, 1] <= height/2)\n",
    ")[:, 0]\n",
    "righttop = np.argwhere(\n",
    "    np.isclose(mesh.nodes[:, 0], width, atol=tol)\n",
    "    & (mesh.nodes[:, 1] > height/2)\n",
    ")[:, 0]\n",
    "\n",
    "_, ax, _ = mesh.plot(triplot_kw=dict(ls='--', label='Mesh'), zorder=1)\n",
    "\n",
    "ax.scatter(*mesh.nodes[bottom].T, label=\"$u_y=0$\")\n",
    "ax.scatter(*mesh.nodes[righttop].T, label=\"$u_x=0$\")\n",
    "ax.scatter(*mesh.nodes[top].T, label=\"$\\sigma_0$\", marker=7)\n",
    "ax.scatter(*mesh.nodes[leftbot].T, label=r\"$\\tau$\", marker='>')\n",
    "ax.scatter(*mesh.nodes[leftbot].T)\n",
    "\n",
    "ax.legend(loc=(1.1, 0.2))\n",
    "ax.set_xlabel(\"x [m]\")\n",
    "ax.set_ylabel(\"y [m]\")\n",
    "plt.show()"
   ]
  },
  {
   "cell_type": "markdown",
   "metadata": {},
   "source": [
    "## Pressure distribution\n",
    "\n",
    "The applied pressure on the fracture wall has to be integrated over the surface. The `MatrixAssembly::assemble_traction_over_line` will do it for us. A possible check is the total force applied:\n",
    "\n",
    "$$ F_{tot} = \\int_S f dS = f\\cdot\\pi R^2\\quad \\text{For a constant load} $$"
   ]
  },
  {
   "cell_type": "code",
   "execution_count": null,
   "metadata": {},
   "outputs": [],
   "source": [
    "%matplotlib inline\n",
    "\n",
    "f = MatrixAssembly.assemble_tractions_over_line(mesh, top, [0, -4e6])\n",
    "# Cheating because there is a small error (10%)\n",
    "# f *= fracture_pressure * np.pi*fracture_radius**2 / f.reshape(2, -1, order='F')[1].sum()\n",
    "fv = f.reshape(2, -1, order='F')\n",
    "\n",
    "for s, direction in zip(fv, (\"xx\", \"zz\")):\n",
    "    fig, ax, cb = mesh.plot(s)\n",
    "    vmin = vmax = None\n",
    "    if s.min() == s.max():\n",
    "        vmin, vmax = -1, 1\n",
    "    ax.tripcolor(*mesh.nodes.T, mesh.connectivity[:, :3], s, vmin=vmin, vmax=vmax)\n",
    "    cb.mappable.set_clim(vmin=vmin, vmax=vmax)\n",
    "    ax.set_title(rf\"$\\sigma_{{{direction}}}$\")\n",
    "    ax.set_xlabel(\"x [m]\")\n",
    "    ax.set_ylabel(\"y [m]\")\n",
    "    plt.show()"
   ]
  },
  {
   "cell_type": "code",
   "execution_count": null,
   "metadata": {},
   "outputs": [],
   "source": [
    "dof_fixed = 2*np.concatenate((bottom, righttop))\n",
    "eq_free_d = np.setdiff1d(np.arange(ntot_E), dof_fixed)\n",
    "eq_free_p = np.arange(ntot_P)\n",
    "\n",
    "eq_free = np.hstack((eq_free_d, eq_free_p + ntot_E))\n",
    "eq_fixed_p = np.setdiff1d(np.arange(ntot_P), eq_free_p) + ntot_E\n",
    "\n",
    "# UNDRAINED bulk modulus\n",
    "# it's the drained one in the exercise corrections (wrong in my opinion)\n",
    "top_ma = sp.hstack((K_u, -A), format='csc')\n",
    "bottom_ma = sp.hstack((-A.T, - S), format='csc')\n",
    "T = sp.vstack((top_ma, bottom_ma), format='csc')\n",
    "\n",
    "force = np.zeros(ntot)\n",
    "force[:ntot_E] = f\n",
    "\n",
    "undrained_sol = np.zeros(ntot)\n",
    "force_u = force.copy()\n",
    "force_u[ntot_E:] = 0  # from equation (2)\n",
    "undrained_sol[eq_free] = sp.linalg.spsolve(T[eq_free][:, eq_free], force_u[eq_free])\n",
    "undrained_sol[eq_fixed_p] = force[eq_fixed_p]\n",
    "\n",
    "displacement_field = undrained_sol[:ntot_E].reshape(2, mesh.number_nodes, order='F')\n",
    "p_field = undrained_sol[ntot_E:]"
   ]
  },
  {
   "cell_type": "code",
   "execution_count": 39,
   "metadata": {},
   "outputs": [
    {
     "data": {
      "text/plain": [
       "Text(0.0, 1.0, 'deformed mesh (1e-08 x multiplication) ')"
      ]
     },
     "execution_count": 39,
     "metadata": {},
     "output_type": "execute_result"
    },
    {
     "data": {
      "image/png": "[encoded data removed]",
      "text/plain": [
       "<Figure size 640x480 with 2 Axes>"
      ]
     },
     "metadata": {},
     "output_type": "display_data"
    },
    {
     "data": {
      "image/png": "[encoded data removed]",
      "text/plain": [
       "<Figure size 640x480 with 2 Axes>"
      ]
     },
     "metadata": {},
     "output_type": "display_data"
    },
    {
     "data": {
      "image/png": "[encoded data removed]",
      "text/plain": [
       "<Figure size 640x480 with 2 Axes>"
      ]
     },
     "metadata": {},
     "output_type": "display_data"
    },
    {
     "data": {
      "image/png": "[encoded data removed]",
      "text/plain": [
       "<Figure size 640x480 with 2 Axes>"
      ]
     },
     "metadata": {},
     "output_type": "display_data"
    }
   ],
   "source": [
    "%matplotlib inline\n",
    "\n",
    "fig, ax, cb = mesh.plot(displacement_field[0], shading='flat')\n",
    "ax.tripcolor(*mesh.nodes.T, mesh.connectivity[:, :3], p_field)\n",
    "ax.set_title('$p_w$ (MPa)', loc='left')\n",
    "\n",
    "fig, ax, cb = mesh.plot(displacement_field[0])\n",
    "ax.tripcolor(*mesh.nodes.T, mesh.connectivity[:, :3], displacement_field[0])\n",
    "ax.set_title('$u_x$ (m)', loc='left')\n",
    "\n",
    "fig, ax, cb = mesh.plot(displacement_field[1])\n",
    "ax.tripcolor(*mesh.nodes.T, mesh.connectivity[:, :3], displacement_field[1])\n",
    "ax.set_title('$u_y$ (m)', loc='left')\n",
    "\n",
    "factor = 0.2/np.abs(displacement_field[0]).max()\n",
    "# d_field[0] = np.ones_like(d_field[0])\n",
    "fig, ax, cb = mesh.plot(factor * np.linalg.norm(displacement_field, axis=0))\n",
    "ax.tripcolor(*mesh.nodes.T, mesh.connectivity[:, :3], np.linalg.norm(displacement_field, axis=0))\n",
    "ax.triplot(*(mesh.nodes.T + factor * displacement_field), c='r', lw=0.5, zorder=4)\n",
    "cb.ax.set_ylabel(f\"[m] (x{factor:.0f})\")\n",
    "ax.set_title(f'deformed mesh ({factor:.0e} x multiplication) ', loc='left')"
   ]
  },
  {
   "cell_type": "markdown",
   "metadata": {},
   "source": [
    "# Transient solution\n",
    "\n",
    "### Time integration\n",
    "\n",
    "An implicit scheme (backward Euler) is used as it doesn't require a small time-step and is first order accurate in time.\n",
    "\n",
    "$$\\Delta t \\begin{pmatrix}\\mathbf{\\dot{u}}\\\\\\mathbf{\\dot{p}}\\end{pmatrix}=\\begin{pmatrix}\\mathbf{u}^{n+1}\\\\\\mathbf{p}^{n+1}\\end{pmatrix}-\\begin{pmatrix}\\mathbf{u}^{n}\\\\\\mathbf{p}^{n}\\end{pmatrix}$$\n",
    "\n",
    "$$ \\begin{bmatrix} \\mathbf{0} & \\mathbf{0}\\\\\\mathbf{0} & -\\Delta t\\mathbf{C} \\end{bmatrix}\\begin{pmatrix}\\mathbf{u}^{n+1}\\\\\\mathbf{p}^{n+1}\\end{pmatrix} + \\begin{bmatrix} \\mathbf{K} & -\\mathbf{A}\\\\-\\mathbf{A}^\\intercal & -\\mathbf{S}\\end{bmatrix}\\begin{pmatrix}\\Delta\\mathbf{u}\\\\\\Delta\\mathbf{p}\\end{pmatrix}=\\Delta t\\begin{pmatrix}\\dot{\\mathbf{f}}_t\\\\\\mathbf{f}_q\\end{pmatrix}$$\n",
    "\n",
    "Where the incremental unknowns can be found by solving the following $\\mathbf{Ax}=\\mathbf{b}$ type system:\n",
    "\n",
    "\\begin{equation}\\begin{bmatrix} \\mathbf{K} & -\\mathbf{A}\\\\-\\mathbf{A}^\\intercal & -\\mathbf{S}-\\Delta t\\mathbf{C} \\end{bmatrix}\\begin{pmatrix}\\Delta\\mathbf{u}\\\\\\Delta\\mathbf{p}\\end{pmatrix}=\\Delta t\\begin{pmatrix}\\dot{\\mathbf{f}}_t\\\\\\mathbf{f}_q\\end{pmatrix} + \\begin{pmatrix}\\mathbf{0}\\\\\\Delta t\\mathbf{C}\\mathbf{p}^n\\end{pmatrix}\\tag{2}\\end{equation}\n",
    "\n",
    "### Undrained problem\n",
    "\n",
    "To compute the undrained response, the whole traction forces are applied on a single time-step and the initial pore pressure $\\mathbf{p}^{0}$ does not play a role in the solution.\n",
    "\n",
    "\\begin{equation}\\begin{bmatrix} \\mathbf{K} & -\\mathbf{A}\\\\-\\mathbf{A}^\\intercal & -\\mathbf{S} \\end{bmatrix}\\begin{pmatrix}\\Delta\\mathbf{u}\\\\\\Delta\\mathbf{p}\\end{pmatrix}=\\begin{pmatrix}\\mathbf{f}_t\\\\0\\end{pmatrix}\\tag{3}\\end{equation}\n",
    "\n",
    "This system solves as:\n",
    "\n",
    "$$ \\left(\\mathbf{K} + \\mathbf{AS}^{-1}\\mathbf{A^\\intercal}\\right)\\Delta\\mathbf{u} = \\mathbf{f}_t \\qquad \\Delta p = -\\mathbf{S}^{-1}\\mathbf{A}^\\intercal\\Delta \\mathbf{u} $$\n",
    "\n",
    "NB: This solution is close to the purely mechanical undrained answer $\\mathbf{K}_u\\Delta\\mathbf{u}=\\mathbf{f}_t$ since $\\mathbf{p}^0$ has no effect. Anyway, directly solving equation (3) is a simple computation."
   ]
  },
  {
   "cell_type": "code",
   "execution_count": null,
   "metadata": {},
   "outputs": [],
   "source": [
    "def fast_loading(force, eq_free_d, eq_free_p, time=time):\n",
    "\n",
    "    dt = np.diff(time)\n",
    "    eq_free = np.hstack((eq_free_d, eq_free_p + ntot_E))\n",
    "    eq_fixed_p = np.setdiff1d(np.arange(ntot_P), eq_free_p) + ntot_E\n",
    "\n",
    "    # we prepare the solution vectors\n",
    "    solutions = np.zeros((time.size, ntot))\n",
    "\n",
    "    # UNDRAINED bulk modulus\n",
    "    # it's the drained one in the exercise corrections (wrong in my opinion)\n",
    "    top_ma = sp.hstack((K_u, -A), format='csc')\n",
    "    bottom_ma = sp.hstack((-A.T, - S), format='csc')\n",
    "    T = sp.vstack((top_ma, bottom_ma), format='csc')\n",
    "\n",
    "    undrained_sol = np.zeros(ntot)\n",
    "    force_u = force.copy()\n",
    "    force_u[ntot_E:] = 0  # from equation (2)\n",
    "    undrained_sol[eq_free] = sp.linalg.spsolve(T[eq_free][:, eq_free], force_u[eq_free])\n",
    "    undrained_sol[eq_fixed_p] = force[eq_fixed_p]\n",
    "    solutions[0] = undrained_sol\n",
    "\n",
    "    force_d = force.copy()\n",
    "    # force vector: DIFFERENTIAL tractions => 0\n",
    "    # it's the tractions in the exercise corrections (wrong in my opinion)\n",
    "    force_d[:ntot_E] = 0\n",
    "    top_ma = sp.hstack((K, -A), format='csc')  # DRAINED bulk modulus\n",
    "\n",
    "    # Time integration loop\n",
    "    for i, dti in enumerate(dt):\n",
    "        print(f'Iteration {i + 1}/{dt.size} ({(i + 1)/dt.size:.0%})', end='\\r')\n",
    "\n",
    "        # update the conductivity in the matrix\n",
    "        bottom_ma = sp.hstack((-A.T, -S - dti * C), format='csc')\n",
    "        T = sp.vstack((top_ma, bottom_ma), format='csc')\n",
    "\n",
    "        # update the pore pressure in the force vector\n",
    "        pore_pressure_free = eq_free[eq_free >= ntot_E]\n",
    "        flux = dti * C[pore_pressure_free - ntot_E] @ solutions[i, ntot_E:]\n",
    "        force_d[pore_pressure_free] = flux\n",
    "\n",
    "        # solve the system\n",
    "        update = sp.linalg.spsolve(T[eq_free][:, eq_free], force_d[eq_free])\n",
    "        solutions[i + 1, eq_free] = solutions[i, eq_free] + update\n",
    "        solutions[i + 1, eq_free] = solutions[i, eq_free] + update\n",
    "        # Setting the forced pressures in the solution (missing in the exercise corrections)\n",
    "        solutions[i + 1, eq_fixed_p] = force_d[eq_fixed_p]\n",
    "    print()\n",
    "\n",
    "    displacement_field = solutions[:, :ntot_E].reshape(time.size, 2, mesh.number_nodes, order='F')\n",
    "    p_field = solutions[:, ntot_E:]\n",
    "\n",
    "    return displacement_field, p_field"
   ]
  },
  {
   "cell_type": "markdown",
   "metadata": {},
   "source": [
    "# Impermeable walls\n",
    "\n",
    "Here, a simple mechanical pressure is applied on the fracture wall. The fast loading function implemented above applies since the force is applied suddenly and then remains constant."
   ]
  },
  {
   "cell_type": "code",
   "execution_count": null,
   "metadata": {
    "execution": {
     "iopub.execute_input": "2024-01-04T15:42:48.089453Z",
     "iopub.status.busy": "2024-01-04T15:42:48.087588Z",
     "iopub.status.idle": "2024-01-04T15:42:48.464006Z",
     "shell.execute_reply": "2024-01-04T15:42:48.417193Z",
     "shell.execute_reply.started": "2024-01-04T15:42:48.089360Z"
    },
    "tags": []
   },
   "outputs": [],
   "source": [
    "%matplotlib inline\n",
    "_, ax, _ = mesh.plot(triplot_kw=dict(ls='--', label='Mesh'), zorder=1)\n",
    "axins = mesh.zoom_plot(zoom_xys=zoom_xys)\n",
    "for axe in (ax, axins):\n",
    "    axe.scatter(*mesh.nodes[fracture].T, label=r\"$\\sigma=p_w\\cdot n$\")\n",
    "    axe.scatter(*mesh.nodes[left].T, label=\"$u_x=0$\", marker='>')\n",
    "    axe.scatter(*mesh.nodes[bottom].T, label=\"$u_y$=0\", marker='^')\n",
    "    axe.scatter(*mesh.nodes[np.hstack((top, right))].T, label=\"Free\")\n",
    "\n",
    "ax.legend(loc=(1.1, 0.2))\n",
    "ax.set_xlabel(\"x [m]\")\n",
    "ax.set_ylabel(\"y [m]\")\n",
    "plt.show()"
   ]
  },
  {
   "cell_type": "code",
   "execution_count": null,
   "metadata": {},
   "outputs": [],
   "source": [
    "force = np.zeros(ntot)\n",
    "force[:ntot_E] = f\n",
    "\n",
    "dof_fixed = np.hstack((2*left, 2 * bottom + 1))\n",
    "eq_free_d = np.setdiff1d(np.arange(ntot_E), dof_fixed)\n",
    "\n",
    "eq_free_p = np.arange(ntot_P)\n",
    "\n",
    "disp_imperm, pp_imperm = fast_loading(force, eq_free_d, eq_free_p)"
   ]
  },
  {
   "cell_type": "code",
   "execution_count": null,
   "metadata": {
    "execution": {
     "iopub.execute_input": "2024-01-04T15:43:26.841625Z",
     "iopub.status.busy": "2024-01-04T15:43:26.840632Z",
     "iopub.status.idle": "2024-01-04T15:43:27.583582Z",
     "shell.execute_reply": "2024-01-04T15:43:27.582312Z",
     "shell.execute_reply.started": "2024-01-04T15:43:26.841526Z"
    },
    "tags": []
   },
   "outputs": [],
   "source": [
    "%matplotlib inline\n",
    "\n",
    "fig, ax, cb = mesh.plot(pp_imperm[0], shading='flat')\n",
    "axin = mesh.zoom_plot(ax=ax, zoom_xys=zoom_xys)\n",
    "axin.tripcolor(*mesh.nodes.T, mesh.connectivity[:, :3], pp_imperm[0])\n",
    "ax.set_title('$p_w$ (MPa)', loc='left')\n",
    "\n",
    "fig, ax, cb = mesh.plot(disp_imperm[0, 0])\n",
    "axin = mesh.zoom_plot(ax=ax, zoom_xys=zoom_xys)\n",
    "axin.tripcolor(*mesh.nodes.T, mesh.connectivity[:, :3], disp_imperm[0, 0])\n",
    "ax.set_title('$u_x$ (m)', loc='left')\n",
    "\n",
    "fig, ax, cb = mesh.plot(disp_imperm[0, 1])\n",
    "axin = mesh.zoom_plot(ax=ax, zoom_xys=zoom_xys)\n",
    "axin.tripcolor(*mesh.nodes.T, mesh.connectivity[:, :3], disp_imperm[0, 1])\n",
    "ax.set_title('$u_y$ (m)', loc='left')\n",
    "\n",
    "factor = 0.2/np.abs(disp_imperm[0]).max()\n",
    "# d_field[0] = np.ones_like(d_field[0])\n",
    "fig, ax, cb = mesh.plot(factor * np.linalg.norm(disp_imperm[0], axis=0))\n",
    "axin = mesh.zoom_plot(ax=ax, zoom_xys=zoom_xys)\n",
    "axin.tripcolor(*mesh.nodes.T, mesh.connectivity[:, :3], np.linalg.norm(disp_imperm[0], axis=0))\n",
    "for axe in (ax, axin):\n",
    "    axe.triplot(*(mesh.nodes.T + factor * disp_imperm[0]), c='r', lw=0.5, zorder=4)\n",
    "cb.ax.set_ylabel(f\"[m] (x{factor:.0f})\")\n",
    "ax.set_title(f'deformed mesh ({factor:.0e} x multiplication) ', loc='left')"
   ]
  },
  {
   "cell_type": "code",
   "execution_count": null,
   "metadata": {
    "execution": {
     "iopub.execute_input": "2024-01-04T15:24:29.409932Z",
     "iopub.status.busy": "2024-01-04T15:24:29.409026Z",
     "iopub.status.idle": "2024-01-04T15:24:29.946880Z",
     "shell.execute_reply": "2024-01-04T15:24:29.945612Z",
     "shell.execute_reply.started": "2024-01-04T15:24:29.409862Z"
    },
    "tags": []
   },
   "outputs": [],
   "source": [
    "%matplotlib qt\n",
    "\n",
    "vmax = np.abs(pp_imperm).max()\n",
    "\n",
    "# setting up the figure\n",
    "fig, ax = plt.subplots()\n",
    "im = ax.tripcolor(*mesh.nodes.T, mesh.connectivity[:, :3],\n",
    "                  pp_imperm[0],\n",
    "                  vmin=-vmax, vmax=vmax,\n",
    "                  lw=1, shading='gouraud', cmap='RdBu')\n",
    "timetxtr = ax.set_title('t=0', loc='right')\n",
    "timetxtl = ax.set_title(f\"|{' ':<10}|\", loc='left')\n",
    "ax.set_xlim(0, 10)\n",
    "ax.set_ylim(0, 10)\n",
    "plt.colorbar(im).ax.set_ylabel(\"$p_w$ [MPa]\")\n",
    "ax.set_aspect(1)\n",
    "mesh.plot(ax=ax)\n",
    "axins = mesh.zoom_plot(zoom_xys=zoom_xys)\n",
    "imz = axins.tripcolor(*mesh.nodes.T, mesh.connectivity[:, :3],\n",
    "                       pp_imperm[0],\n",
    "                       vmin=-vmax, vmax=vmax,\n",
    "                       lw=1, shading='gouraud', cmap='RdBu')\n",
    "\n",
    "def update(i):\n",
    "    timetxtr.set_text(f'$p_w^{{e}}$(t={time[i]:.0e} s)')\n",
    "    timetxtl.set_text(f\"|{'█'*((i+1)*10//time.size):░<10}| {((i+1)/time.size):.0%}\")\n",
    "    im.set_array(pp_imperm[i])\n",
    "    imz.set_array(pp_imperm[i])\n",
    "    return im, time\n",
    "\n",
    "anim = FuncAnimation(fig, update, frames=time.size, interval=300/time.size)"
   ]
  },
  {
   "cell_type": "code",
   "execution_count": null,
   "metadata": {
    "execution": {
     "iopub.execute_input": "2024-01-04T12:50:01.196421Z",
     "iopub.status.busy": "2024-01-04T12:50:01.195254Z",
     "iopub.status.idle": "2024-01-04T12:50:01.955069Z",
     "shell.execute_reply": "2024-01-04T12:50:01.952226Z",
     "shell.execute_reply.started": "2024-01-04T12:50:01.196290Z"
    },
    "tags": []
   },
   "outputs": [],
   "source": [
    "%matplotlib qt \n",
    "\n",
    "fig, ax = plt.subplots()\n",
    "timetxtr = ax.set_title('t=0', loc='right')\n",
    "timetxtl = ax.set_title(f\"|{' ':<10}|\", loc='left')\n",
    "plt.colorbar(im)\n",
    "ax.set_aspect(1)\n",
    "mesh.plot(ax=ax)\n",
    "# axins = mesh.zoom_plot(zoom_xys=((-0.05, 0.1), (-0.05, 0.1)))\n",
    "axins = mesh.zoom_plot(zoom_xys=zoom_xys)\n",
    "\n",
    "factor = 0.2/np.abs(disp_imperm).max()\n",
    "nodes = mesh.nodes.T + factor * disp_imperm[0]\n",
    "edges, _ = ax.triplot(*nodes, c='r', lw=0.5)\n",
    "point_top = ax.scatter(*nodes[:, top_point], label=\"fracture center\", zorder=edges.get_zorder()+1)\n",
    "point_right = ax.scatter(*nodes[:, right_point], label=\"fracture edge\", zorder=edges.get_zorder()+1)\n",
    "\n",
    "edgesz, _ = axins.triplot(*nodes, c='r', lw=0.5)\n",
    "point_topz = axins.scatter(*nodes[:, top_point], label=\"fracture center\", zorder=edges.get_zorder()+1)\n",
    "point_rightz = axins.scatter(*nodes[:, right_point], label=\"fracture edge\", zorder=edges.get_zorder()+1)\n",
    "\n",
    "def update(i):\n",
    "    timetxtr.set_text(f'$u(t={time[i]:.0e} s)$ (x{factor:.0e})')\n",
    "    timetxtl.set_text(f\"|{'█'*((i+1)*10//time.size):░<10}|\")\n",
    "    nodes = mesh.nodes.T + factor * disp_imperm[i]\n",
    "    line, _ = ax.triplot(*nodes, c='none')\n",
    "\n",
    "    point_top.set_offsets(nodes[:, top_point])\n",
    "    point_right.set_offsets(nodes[:, right_point])\n",
    "    edges.set_data(*line.get_data())\n",
    "\n",
    "    point_topz.set_offsets(nodes[:, top_point])\n",
    "    point_rightz.set_offsets(nodes[:, right_point])\n",
    "    edgesz.set_data(*line.get_data())\n",
    "\n",
    "anim = FuncAnimation(fig, update, frames=time.size, interval=300/time.size)"
   ]
  },
  {
   "cell_type": "markdown",
   "metadata": {},
   "source": [
    "# Permeable walls\n",
    "\n",
    "Now, both mechanical and pore pressure are applied.\n",
    "\n",
    "Existential question : should the mechanical pressure reduce over time ? Since the pore pressure gradient at the fracture goes to zero with time, I'd expect the mechanical action to go to zero too. But, there's no more time for me to implement it. Although it might just be $\\dot{\\mathbf{f}}_t = \\Delta\\mathbf{p}_w^\\text{fracture}$ in the solution of equation (2)."
   ]
  },
  {
   "cell_type": "code",
   "execution_count": null,
   "metadata": {},
   "outputs": [],
   "source": [
    "%matplotlib inline\n",
    "\n",
    "_, ax, _ = mesh.plot(triplot_kw=dict(ls='--', label='Mesh'), zorder=1)\n",
    "axins = mesh.zoom_plot(zoom_xys=zoom_xys)\n",
    "for axe in (ax, axins):\n",
    "    axe.scatter(*mesh.nodes[fracture].T, label=r\"$p=p_w$\"\"\\n\"r\"$\\sigma=p_w\\cdot n$\")\n",
    "    axe.scatter(*mesh.nodes[left].T, label=\"$u_x=0$\", marker='>')\n",
    "    axe.scatter(*mesh.nodes[bottom].T, label=\"$u_y$=0\", marker='^')\n",
    "    axe.scatter(*mesh.nodes[np.hstack((top, right))].T, label=\"Free\")\n",
    "\n",
    "ax.legend(loc=(1.1, 0.2))\n",
    "plt.show()"
   ]
  },
  {
   "cell_type": "code",
   "execution_count": null,
   "metadata": {},
   "outputs": [],
   "source": [
    "force = np.zeros(ntot)\n",
    "force[:ntot_E] = f\n",
    "force[ntot_E + fracture] = fracture_pressure\n",
    "\n",
    "dof_fixed = np.hstack((2*left, 2 * bottom + 1))\n",
    "eq_free_d = np.setdiff1d(np.arange(ntot_E), dof_fixed)\n",
    "\n",
    "eq_free_p = np.setdiff1d(np.arange(ntot_P), fracture)\n",
    "\n",
    "disp_perm, pp_perm = fast_loading(force, eq_free_d, eq_free_p)"
   ]
  },
  {
   "cell_type": "code",
   "execution_count": null,
   "metadata": {},
   "outputs": [],
   "source": [
    "%matplotlib inline\n",
    "\n",
    "fig, ax, cb = mesh.plot(pp_perm[0], shading='flat')\n",
    "axin = mesh.zoom_plot(ax=ax, zoom_xys=zoom_xys)\n",
    "axin.tripcolor(*mesh.nodes.T, mesh.connectivity[:, :3], pp_perm[0])\n",
    "ax.set_title(\"$p_w$ (MPa)\", loc=\"left\")\n",
    "\n",
    "fig, ax, cb = mesh.plot(disp_perm[0, 0])\n",
    "axin = mesh.zoom_plot(ax=ax, zoom_xys=zoom_xys)\n",
    "axin.tripcolor(*mesh.nodes.T, mesh.connectivity[:, :3], disp_perm[0, 0])\n",
    "ax.set_title('$u_x$ (m)', loc='left')\n",
    "\n",
    "fig, ax, cb = mesh.plot(disp_perm[0, 1])\n",
    "axin = mesh.zoom_plot(ax=ax, zoom_xys=zoom_xys)\n",
    "axin.tripcolor(*mesh.nodes.T, mesh.connectivity[:, :3], disp_perm[0, 1])\n",
    "ax.set_title('$u_y$ (m)', loc='left')\n",
    "\n",
    "factor = 0.2/np.abs(disp_perm[0]).max()\n",
    "# d_field[0] = np.ones_like(d_field[0])\n",
    "fig, ax, cb = mesh.plot(factor * np.linalg.norm(disp_perm[0], axis=0))\n",
    "axin = mesh.zoom_plot(ax=ax, zoom_xys=zoom_xys)\n",
    "axin.tripcolor(*mesh.nodes.T, mesh.connectivity[:, :3], np.linalg.norm(disp_perm[0], axis=0))\n",
    "for axe in (ax, axin):\n",
    "    axe.triplot(*(mesh.nodes.T + factor * disp_perm[0]), c='r', lw=0.5, zorder=4)\n",
    "cb.ax.set_ylabel(f\"[m] (x{factor:.0f})\")\n",
    "ax.set_title(f'deformed mesh ({factor:.0e} x multiplication) ', loc='left')"
   ]
  },
  {
   "cell_type": "code",
   "execution_count": null,
   "metadata": {},
   "outputs": [],
   "source": [
    "%matplotlib qt\n",
    "\n",
    "vmax = np.abs(pp_imperm).max()\n",
    "\n",
    "# setting up the figure\n",
    "fig, ax = plt.subplots()\n",
    "im = ax.tripcolor(*mesh.nodes.T, mesh.connectivity[:, :3],\n",
    "                  pp_imperm[0],\n",
    "                  vmin=-vmax*3, vmax=vmax*3,\n",
    "                  lw=1, shading='gouraud', cmap='RdBu')\n",
    "timetxtr = ax.set_title('t=0', loc='right')\n",
    "timetxtl = ax.set_title(f\"|{' ':<10}|\", loc='left')\n",
    "ax.set_xlim(0, 10)\n",
    "ax.set_ylim(0, 10)\n",
    "plt.colorbar(im).ax.set_ylabel(\"$p_w$ [MPa]\")\n",
    "ax.set_aspect(1)\n",
    "mesh.plot(ax=ax)\n",
    "axins = mesh.zoom_plot(zoom_xys=zoom_xys)\n",
    "imz = axins.tripcolor(*mesh.nodes.T, mesh.connectivity[:, :3],\n",
    "                       pp_perm[0],\n",
    "                       vmin=-vmax*3, vmax=vmax*3,\n",
    "                       lw=1, shading='gouraud', cmap='RdBu')\n",
    "\n",
    "def update(i):\n",
    "    timetxtr.set_text(f'$p_w^{{e}}$(t={time[i]:.0e}) s')\n",
    "    timetxtl.set_text(f\"|{'█'*((i+1)*10//time.size):░<10}| {((i+1)/time.size):.0%}\")\n",
    "    im.set_array(pp_perm[i])\n",
    "    imz.set_array(pp_perm[i])\n",
    "    return im, time\n",
    "\n",
    "anim = FuncAnimation(fig, update, frames=time.size, interval=300/time.size)"
   ]
  },
  {
   "cell_type": "code",
   "execution_count": null,
   "metadata": {},
   "outputs": [],
   "source": [
    "%matplotlib qt \n",
    "\n",
    "fig, ax = plt.subplots()\n",
    "timetxtr = ax.set_title('t=0', loc='right')\n",
    "timetxtl = ax.set_title(f\"|{' ':<10}|\", loc='left')\n",
    "plt.colorbar(im)\n",
    "ax.set_aspect(1)\n",
    "mesh.plot(ax=ax)\n",
    "# axins = mesh.zoom_plot(zoom_xys=((-0.05, 0.1), (-0.05, 0.1)))\n",
    "axins = mesh.zoom_plot(zoom_xys=zoom_xys)\n",
    "\n",
    "nodes = mesh.nodes.T + factor * disp_imperm[0]\n",
    "edges, _ = ax.triplot(*nodes, c='r', lw=0.5)\n",
    "point_top = ax.scatter(*nodes[:, top_point], label=\"fracture center\", zorder=edges.get_zorder()+1)\n",
    "point_right = ax.scatter(*nodes[:, right_point], label=\"fracture edge\", zorder=edges.get_zorder()+1)\n",
    "\n",
    "edgesz, _ = axins.triplot(*nodes, c='r', lw=0.5)\n",
    "point_topz = axins.scatter(*nodes[:, top_point], label=\"fracture center\", zorder=edges.get_zorder()+1)\n",
    "point_rightz = axins.scatter(*nodes[:, right_point], label=\"fracture edge\", zorder=edges.get_zorder()+1)\n",
    "\n",
    "def update(i):\n",
    "    timetxtr.set_text(f'$u(t={time[i]:.0e})$ (x{factor:.0e})')\n",
    "    timetxtl.set_text(f\"|{'█'*((i+1)*10//time.size):░<10}|\")\n",
    "    nodes = mesh.nodes.T + factor * disp_imperm[i]\n",
    "    line, _ = ax.triplot(*nodes, c='none')\n",
    "\n",
    "    point_top.set_offsets(nodes[:, top_point])\n",
    "    point_right.set_offsets(nodes[:, right_point])\n",
    "    edges.set_data(*line.get_data())\n",
    "\n",
    "    point_topz.set_offsets(nodes[:, top_point])\n",
    "    point_rightz.set_offsets(nodes[:, right_point])\n",
    "    edgesz.set_data(*line.get_data())\n",
    "\n",
    "anim = FuncAnimation(fig, update, frames=time.size, interval=300/time.size)"
   ]
  },
  {
   "cell_type": "markdown",
   "metadata": {},
   "source": [
    "## Results and discussion\n",
    "# Comparison with the analytical solution\n",
    "\n",
    "Tada's book gives an analytical solution to the **elastic** problem:\n",
    "\n",
    "$$ w_f = \\frac{8\\sigma}{\\pi E'}R $$\n",
    "\n",
    "where $E'$ is the appropriate Young modulus, $\\sigma$ the applied pressure on the fracture and $R$ the fracture's radius."
   ]
  },
  {
   "cell_type": "code",
   "execution_count": null,
   "metadata": {},
   "outputs": [],
   "source": [
    "%matplotlib inline\n",
    "zi = disp_imperm[:, 1][:, top_point]\n",
    "zp = disp_perm[:, 1][:, top_point]\n",
    "with plt.style.context('ggplot'):\n",
    "    plt.title(\"Fracture width evolution\")\n",
    "    # Impermeable\n",
    "    plt.plot(time, 2*zi, \"o\", label=\"Impermeable\", mfc='w', mew=1.5, c='gray')\n",
    "    # Permeable\n",
    "    plt.plot(time, 2*zp, \"o\", label=\"Permeable\", ms=2, mew=1.5, c='teal')\n",
    "    # Analytical\n",
    "    plt.axline((0, 8*fracture_pressure/np.pi/E_u), slope=0, ls='--', c='r', lw=1, label=\"Undrained\")\n",
    "    plt.axline((0, 8*fracture_pressure/np.pi/E), slope=0, ls='-.', c='b', lw=1, label=\"Drained\")\n",
    "\n",
    "    plt.xlabel(\"$t$ [s]\")\n",
    "    plt.ylabel(\"$z$ [m]\")\n",
    "    plt.gca().dataLim.y0 = 0\n",
    "    plt.gca().dataLim.y1 = 2*(zp.min() + zp.max())\n",
    "    plt.semilogx()\n",
    "    plt.legend()"
   ]
  },
  {
   "cell_type": "markdown",
   "metadata": {},
   "source": [
    "In the figure above, we can see the undrained answer being lower than expected. This is certainly because of the water pressure on top of the fracture resisting the movement (the positive pore pressure seen in pore water pressure above the fracture in the plots). \n",
    "\n",
    "After some time, the fracture moves again. It happens once the pore pressure is dissipated to the rest of the mesh. The difference amplitude of the displacement between the drained and undrained states $w_f^\\text{drained}-w_f^\\text{undrained}$ seems so be identical in this numerical solution and in Tada's analytical solution.\n",
    "\n",
    "The shape of the fracture's deformation is an ellipsis, meaning that the width of the fracture at any distance $r$ from the welbore axis is:\n",
    "$$ w(r) = w_f\\sqrt{1-\\frac{r^2}{R^2}} $$\n",
    "\n",
    "NB: the actual width is twice the width computed above since only the top is modelled."
   ]
  },
  {
   "cell_type": "code",
   "execution_count": null,
   "metadata": {},
   "outputs": [],
   "source": [
    "%matplotlib inline\n",
    "x = np.linspace(0, fracture_radius)\n",
    "r_up, z_up = mesh.nodes[fracture].T + disp_perm[0][:, fracture]\n",
    "rp, zp = mesh.nodes[fracture].T + disp_perm[-1][:, fracture]\n",
    "r_ui, z_ui = mesh.nodes[fracture].T + disp_imperm[0][:, fracture]\n",
    "ri, zi = mesh.nodes[fracture].T + disp_imperm[-1][:, fracture]\n",
    "dz_u = 8*fracture_pressure/np.pi/E_u * np.sqrt(1-(x/fracture_radius)**2)\n",
    "dz = 8*fracture_pressure/np.pi/E * np.sqrt(1-(x/fracture_radius)**2)\n",
    "with plt.style.context('ggplot'):\n",
    "    plt.title(\"Fracture shape\")\n",
    "    # Impermeable\n",
    "    plt.plot(r_up, 2*z_up, \"o\", label=\"Undrained permeable\", mfc='w', mew=1.5)\n",
    "    plt.plot(rp, 2*zp, \"o\", label=\"Drained permeale\", mfc='w', mew=1.5)\n",
    "    # Permeable\n",
    "    plt.plot(r_ui, 2*z_ui, \"o\", label=\"Undrained impermeable\", ms=2, mew=1.5)\n",
    "    plt.plot(ri, 2*zi, \"o\", label=\"Drained impermeale\", ms=2, mew=1.5)\n",
    "    # Analytical\n",
    "    plt.plot(x, dz_u, '--', label=\"Tada: undrained\", lw=1)\n",
    "    plt.plot(x, dz, '--', label=\"Tada: drained\", lw=1)\n",
    "\n",
    "    plt.xlabel(\"$r$ [m]\")\n",
    "    plt.ylabel(\"$z$ [m]\")\n",
    "    plt.legend()"
   ]
  },
  {
   "cell_type": "code",
   "execution_count": null,
   "metadata": {},
   "outputs": [],
   "source": [
    "with plt.style.context('ggplot'):\n",
    "    for pp, kind in zip((pp_perm, pp_imperm), (\"Permeable\", \"Impermeable\")):\n",
    "\n",
    "        # Get the information on the pore pressure field.\n",
    "        mean = pp.mean(axis=1)\n",
    "        std = pp.std(axis=1)\n",
    "        max = pp.max(axis=1)\n",
    "        min = pp.min(axis=1)\n",
    "\n",
    "        c = plt.plot(time, mean, label=f\"{kind}: mean\")[0].get_color()\n",
    "        plt.fill_between(time, mean - std, mean + std, alpha=0.3, fc=c, label=f\"{kind}: $\\pm$ std enveloppe\")\n",
    "        plt.fill_between(time, min, max, alpha=0.2, fc=c, label=f\"{kind}: maxima enveloppe\")\n",
    "        plt.xlabel('time [s]')\n",
    "        plt.ylabel('Pressure [MPa]')\n",
    "        plt.semilogx()\n",
    "    plt.legend(loc=\"lower right\")\n",
    "    plt.title(\"Pore pressure distribution (over the whole mesh)\")"
   ]
  },
  {
   "cell_type": "markdown",
   "metadata": {},
   "source": [
    "We can see that the pressure diffusion preceeds with the restart of the displacements (starts at $t=10^4$ s vs. $t=10^8$ s) and that the simulation approached some drained solution in both cases:\n",
    "- Impermeable walls: the pore pressure dissipates and goes to zero in the long term\n",
    "- Permeable walls: the pore pressure diffuses and stabilizes at the fracture pressure in the long term"
   ]
  },
  {
   "cell_type": "code",
   "execution_count": null,
   "metadata": {},
   "outputs": [],
   "source": []
  }
 ],
 "metadata": {
  "kernelspec": {
   "display_name": "Python3",
   "language": "python",
   "name": "python3"
  },
  "language_info": {
   "codemirror_mode": {
    "name": "ipython",
    "version": 3
   },
   "file_extension": ".py",
   "mimetype": "text/x-python",
   "name": "python",
   "nbconvert_exporter": "python",
   "pygments_lexer": "ipython3",
   "version": "3.10.12"
  }
 },
 "nbformat": 4,
 "nbformat_minor": 4
}
